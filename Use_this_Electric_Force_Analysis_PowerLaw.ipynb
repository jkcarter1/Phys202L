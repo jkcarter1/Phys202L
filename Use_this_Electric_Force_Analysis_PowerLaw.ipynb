{
  "cells": [
    {
      "cell_type": "markdown",
      "metadata": {
        "id": "view-in-github",
        "colab_type": "text"
      },
      "source": [
        "<a href=\"https://colab.research.google.com/github/jkcarter1/Phys202L/blob/main/Use_this_Electric_Force_Analysis_PowerLaw.ipynb\" target=\"_parent\"><img src=\"https://colab.research.google.com/assets/colab-badge.svg\" alt=\"Open In Colab\"/></a>"
      ]
    },
    {
      "cell_type": "markdown",
      "metadata": {
        "id": "v-Wc-EdTNxeK"
      },
      "source": [
        "# Lab 3:  Electric Force\n",
        "Vicky Dam, Christiana Cole, Brooke Keyes, Julia Carter, Katie Wagner"
      ]
    },
    {
      "cell_type": "code",
      "execution_count": 2,
      "metadata": {
        "id": "ohL_ZI_2NxeO"
      },
      "outputs": [],
      "source": [
        "import numpy as np\n",
        "import pandas as pd\n",
        "import matplotlib.pyplot as plt\n",
        "import scipy.stats as stats\n",
        "\n",
        "# The following lines make plots in dark mode look reasonable.  If you are not using dark\n",
        "# mode you don't need them, but you can also just leave them here and it should work fine.\n",
        "\n",
        "dark_mode = False\n",
        "# plotting choices for dark-mode\n",
        "if (dark_mode):\n",
        "    from jupyterthemes import jtplot\n",
        "    jtplot.style(theme='monokai', context='notebook', ticks=True, grid=False)\n",
        "    linecolor = 'w'\n",
        "else:\n",
        "    linecolor = 'k'"
      ]
    },
    {
      "cell_type": "markdown",
      "metadata": {
        "id": "Rx6hp_fdNxeQ"
      },
      "source": [
        "# Determining the Path of Electrons"
      ]
    },
    {
      "cell_type": "code",
      "execution_count": 3,
      "metadata": {
        "id": "XkDniCmHNxeR",
        "outputId": "dd0d59ff-e1e5-4342-820c-b6dcb844e9c5",
        "colab": {
          "base_uri": "https://localhost:8080/"
        }
      },
      "outputs": [
        {
          "output_type": "stream",
          "name": "stdout",
          "text": [
            "Accelerating voltage = 4.49 kV:\n",
            " x_cm  dx_cm  y_cm  dy_cm\n",
            "  2.3   0.10  0.00   0.01\n",
            "  3.0   0.01  0.07   0.10\n",
            "  4.0   0.01  0.15   0.10\n",
            "  5.0   0.01  0.25   0.10\n",
            "  6.0   0.01  0.50   0.10\n",
            "  7.0   0.01  0.90   0.10\n",
            "  8.0   0.01  1.15   0.10\n",
            "  9.0   0.01  1.60   0.10\n",
            " 10.0   0.01  2.00   0.10\n",
            "\n",
            "Accelerating voltage = 3.51 kV:\n",
            " x_cm  dx_cm  y_cm  dy_cm\n",
            "  2.3   0.10  0.02   0.01\n",
            "  3.0   0.01  0.09   0.10\n",
            "  4.0   0.01  0.15   0.10\n",
            "  5.0   0.01  0.30   0.10\n",
            "  6.0   0.01  0.80   0.10\n",
            "  7.0   0.01  1.15   0.10\n",
            "  8.0   0.01  1.50   0.10\n",
            "  9.0   0.01  2.00   0.10\n",
            " 10.0   0.01  2.50   0.10\n",
            "\n",
            "Accelerating voltage = 2.52 kV:\n",
            " x_cm  dx_cm  y_cm  dy_cm\n",
            "  2.3   0.10  0.05   0.01\n",
            "  3.0   0.01  0.10   0.10\n",
            "  4.0   0.01  0.20   0.10\n",
            "  5.0   0.01  0.60   0.10\n",
            "  6.0   0.01  1.15   0.10\n",
            "  7.0   0.01  1.60   0.10\n",
            "  8.0   0.01  2.20   0.10\n",
            "  9.0   0.01  2.50   0.10\n"
          ]
        }
      ],
      "source": [
        "# Create a Pandas DataFrame with data for part 1\n",
        "\n",
        "# The data elements are [x_cm, dx_cm, y_cm, dy_cm]\n",
        "\n",
        "data1 = [[2.3,0.1,0.00,0.01], [3.00,0.01,0.07,0.1], [4.00,0.01,0.15,0.1], [5.00,0.01,0.25,0.1], [6.00,0.01,0.50,0.1], [7.00,0.01,0.90,0.1], [8.00,0.01,1.15,0.1], [9.00,0.01,1.60,0.1], [10.00,0.01,2.00,0.1]]\n",
        "# create dataframe\n",
        "df1 = pd.DataFrame(data1, columns = ['x_cm', 'dx_cm','y_cm','dy_cm'])\n",
        "\n",
        "print('Accelerating voltage = 4.49 kV:')\n",
        "print(df1.to_string(index=False))\n",
        "\n",
        "data2 = [[2.3,0.1,0.02,0.01], [3.0,0.01,0.09,0.1], [4.0,0.01,0.15,0.1], \n",
        "         [5.0,0.01,0.30,0.1], [6.0,0.01,0.80,0.1], [7.0,0.01,1.15,0.1], [8.0,0.01,1.50,0.1], [9.0,0.01,2.0,0.1], [10.0,0.01,2.5,0.1]]\n",
        "# create dataframe\n",
        "df2 = pd.DataFrame(data2, columns = ['x_cm', 'dx_cm','y_cm','dy_cm'])\n",
        "\n",
        "print()\n",
        "print('Accelerating voltage = 3.51 kV:')\n",
        "print(df2.to_string(index=False))\n",
        "\n",
        "data3 = [[2.3,0.1,0.05,0.01], [3.0,0.01,0.1,0.1], [4.0,0.01,0.2,0.1], \n",
        "         [5.0,0.01,0.6,0.1], [6.0,0.01,1.15,0.1], [7.0,0.01,1.6,0.1], [8.0,0.01,2.2,0.1], [9.0,0.01,2.5,0.1]]\n",
        "# create dataframe\n",
        "df3 = pd.DataFrame(data3, columns = ['x_cm', 'dx_cm','y_cm','dy_cm'])\n",
        "\n",
        "print()\n",
        "print('Accelerating voltage = 2.52 kV:')\n",
        "print(df3.to_string(index=False))"
      ]
    },
    {
      "cell_type": "code",
      "execution_count": 4,
      "metadata": {
        "id": "GRKH71YENxeT",
        "outputId": "44a47422-7412-4b69-ff86-75fc422a2acd",
        "colab": {
          "base_uri": "https://localhost:8080/"
        }
      },
      "outputs": [
        {
          "output_type": "stream",
          "name": "stdout",
          "text": [
            "Accelerating voltage = 4.5 kV:\n",
            " x_cm  dx_cm  y_cm  dy_cm     x     dx      y     dy\n",
            "  2.3   0.10  0.00   0.01 0.023 0.0010 0.0000 0.0001\n",
            "  3.0   0.01  0.07   0.10 0.030 0.0001 0.0007 0.0010\n",
            "  4.0   0.01  0.15   0.10 0.040 0.0001 0.0015 0.0010\n",
            "  5.0   0.01  0.25   0.10 0.050 0.0001 0.0025 0.0010\n",
            "  6.0   0.01  0.50   0.10 0.060 0.0001 0.0050 0.0010\n",
            "  7.0   0.01  0.90   0.10 0.070 0.0001 0.0090 0.0010\n",
            "  8.0   0.01  1.15   0.10 0.080 0.0001 0.0115 0.0010\n",
            "  9.0   0.01  1.60   0.10 0.090 0.0001 0.0160 0.0010\n",
            " 10.0   0.01  2.00   0.10 0.100 0.0001 0.0200 0.0010\n",
            "\n",
            "Accelerating voltage = 3.5 kV:\n",
            " x_cm  dx_cm  y_cm  dy_cm     x     dx      y     dy\n",
            "  2.3   0.10  0.02   0.01 0.023 0.0010 0.0002 0.0001\n",
            "  3.0   0.01  0.09   0.10 0.030 0.0001 0.0009 0.0010\n",
            "  4.0   0.01  0.15   0.10 0.040 0.0001 0.0015 0.0010\n",
            "  5.0   0.01  0.30   0.10 0.050 0.0001 0.0030 0.0010\n",
            "  6.0   0.01  0.80   0.10 0.060 0.0001 0.0080 0.0010\n",
            "  7.0   0.01  1.15   0.10 0.070 0.0001 0.0115 0.0010\n",
            "  8.0   0.01  1.50   0.10 0.080 0.0001 0.0150 0.0010\n",
            "  9.0   0.01  2.00   0.10 0.090 0.0001 0.0200 0.0010\n",
            " 10.0   0.01  2.50   0.10 0.100 0.0001 0.0250 0.0010\n",
            "\n",
            "Accelerating voltage = 2.5 kV:\n",
            " x_cm  dx_cm  y_cm  dy_cm     x     dx      y     dy\n",
            "  2.3   0.10  0.05   0.01 0.023 0.0010 0.0005 0.0001\n",
            "  3.0   0.01  0.10   0.10 0.030 0.0001 0.0010 0.0010\n",
            "  4.0   0.01  0.20   0.10 0.040 0.0001 0.0020 0.0010\n",
            "  5.0   0.01  0.60   0.10 0.050 0.0001 0.0060 0.0010\n",
            "  6.0   0.01  1.15   0.10 0.060 0.0001 0.0115 0.0010\n",
            "  7.0   0.01  1.60   0.10 0.070 0.0001 0.0160 0.0010\n",
            "  8.0   0.01  2.20   0.10 0.080 0.0001 0.0220 0.0010\n",
            "  9.0   0.01  2.50   0.10 0.090 0.0001 0.0250 0.0010\n"
          ]
        }
      ],
      "source": [
        "df1['x'] = 0.01*(df1['x_cm'])\n",
        "df1['dx'] = 0.01*df1['dx_cm']\n",
        "df1['y'] = 0.01*df1['y_cm']\n",
        "df1['dy'] = 0.01*df1['dy_cm']\n",
        "\n",
        "print('Accelerating voltage = 4.5 kV:')\n",
        "print(df1.to_string(index=False))\n",
        "\n",
        "df2['x'] = 0.01*(df2['x_cm'])\n",
        "df2['dx'] = 0.01*df2['dx_cm']\n",
        "df2['y'] = 0.01*df2['y_cm']\n",
        "df2['dy'] = 0.01*df2['dy_cm']\n",
        "\n",
        "print()\n",
        "print('Accelerating voltage = 3.5 kV:')\n",
        "print(df2.to_string(index=False))\n",
        "\n",
        "df3['x'] = 0.01*(df3['x_cm'])\n",
        "df3['dx'] = 0.01*df3['dx_cm']\n",
        "df3['y'] = 0.01*df3['y_cm']\n",
        "df3['dy'] = 0.01*df3['dy_cm']\n",
        "\n",
        "print()\n",
        "print('Accelerating voltage = 2.5 kV:')\n",
        "print(df3.to_string(index=False))"
      ]
    },
    {
      "cell_type": "code",
      "execution_count": 5,
      "metadata": {
        "id": "CNiWV-fRNxeV",
        "outputId": "c89ec88b-926c-4440-dc8e-8ee7bef2f304",
        "colab": {
          "base_uri": "https://localhost:8080/",
          "height": 670
        }
      },
      "outputs": [
        {
          "output_type": "stream",
          "name": "stderr",
          "text": [
            "/usr/local/lib/python3.7/dist-packages/ipykernel_launcher.py:17: RuntimeWarning: invalid value encountered in power\n"
          ]
        },
        {
          "output_type": "stream",
          "name": "stdout",
          "text": [
            "Beta: [2.06774664e+00 2.29585881e-02 1.80562364e+00 2.10234604e-06]\n",
            "Beta Std Error: [1.22618284e+00 7.89228329e-03 2.94889468e-01 5.34928156e-05]\n",
            "Beta Covariance: [[ 5.57228096e+00 -3.32428350e-02  1.33240259e+00 -4.78855442e-05]\n",
            " [-3.32428350e-02  2.30848932e-04 -8.28788168e-03  4.07409780e-07]\n",
            " [ 1.33240259e+00 -8.28788168e-03  3.22285719e-01 -1.24456846e-05]\n",
            " [-4.78855442e-05  4.07409780e-07 -1.24456846e-05  1.06050679e-08]]\n",
            "Residual Variance: 0.2698220648201754\n",
            "Inverse Condition #: 0.004320688202720011\n",
            "Reason(s) for Halting:\n",
            "  Sum of squares convergence\n",
            "\n",
            "Final Result: Y = (2.0677 +/- 1.2262)(X - (0.0230 +/- 0.0079))^(1.8056 +/- 0.2949) + (0.0000 +/- 0.0001)\n"
          ]
        },
        {
          "output_type": "display_data",
          "data": {
            "image/png": "[encoded data removed]",
            "text/plain": [
              "<Figure size 640x480 with 1 Axes>"
            ]
          },
          "metadata": {
            "needs_background": "light"
          }
        }
      ],
      "source": [
        "xi = df1['x']\n",
        "yi = df1['y']\n",
        "sigmaxi = df1['dx']\n",
        "sigmayi = df1['dy']\n",
        "\n",
        "##############################\n",
        "\n",
        "from scipy.odr import *\n",
        "\n",
        "def fitfunction(B, x):\n",
        "    '''Non-Linear function y = a*(x-c)^b+d'''\n",
        "    # B is a vector of the parameters.\n",
        "    # x is an array of the current x values.\n",
        "    # x is in the same format as the x passed to Data or RealData.\n",
        "    #\n",
        "    # Return an array in the same format as y passed to Data or RealData\n",
        "    return B[0]*(x-B[1])**B[2] + B[3]\n",
        "\n",
        "linear = Model(fitfunction) # create a Model object based on the fitfuncion we have defined\n",
        "mydata = RealData(xi, yi, sx=sigmaxi, sy=sigmayi) # create a data object based on our data, include errors.\n",
        "myodr = ODR(mydata, linear, beta0=[2.55, 0.02, 1.8, 0.0002]) # create a fitting object, based on the data, fit Model, and an intial set of parameters.\n",
        "myoutput = myodr.run()  # run the fitting process to get optimized parameters!\n",
        "\n",
        "myoutput.pprint() # print out the result of the fit\n",
        "\n",
        "# Now assign the important fit results to some more convenient variables.\n",
        "\n",
        "popt = myoutput.beta # the vector of optimized parameters\n",
        "pcov = myoutput.cov_beta # the covariance matrix\n",
        "perr = myoutput.sd_beta # the vector of ERRORS in the optimized parameters\n",
        "\n",
        "# The following lines generate upper and lower 99% \"Confidence Bands\" on the fit, for visualization\n",
        "# purposes.\n",
        "\n",
        "ps = np.random.multivariate_normal(popt,pcov,10000)\n",
        "xl = np.linspace(xi[0],xi[len(xi)-1],100)\n",
        "ysample=np.asarray([fitfunction(pl,xl) for pl in ps])\n",
        "ysample = np.nan_to_num(ysample)\n",
        "\n",
        "lower = np.percentile(ysample,16.0,axis=0)\n",
        "upper = np.percentile(ysample,84.0,axis=0)\n",
        "middle = (lower+upper)/2.0\n",
        "\n",
        "yfit = fitfunction(popt,xl)\n",
        "\n",
        "print()\n",
        "print (\"Final Result: Y = (%0.4f +/- %0.4f)(X - (%0.4f +/- %0.4f))^(%0.4f +/- %0.4f) + (%0.4f +/- %0.4f)\" % (popt[0],perr[0],popt[1],perr[1],popt[2],perr[2],popt[3],perr[3]))\n",
        "\n",
        "plt.figure(figsize=(8, 6), dpi=80)\n",
        "plt.errorbar(xi, yi, xerr=sigmaxi, yerr=sigmayi, fmt='o', capsize=2, capthick=1)\n",
        "\n",
        "#plt.plot(xl,middle)\n",
        "#plt.plot(xl,lower)\n",
        "#plt.plot(xl,upper)\n",
        "plt.plot(xl,yfit)\n",
        "\n",
        "#########################\n",
        "\n",
        "plt.xlabel('Horizonatal Distance (meters)')\n",
        "plt.ylabel('Vertical Distance (meters)')\n",
        "plt.title('Determining the Electron Path (Accelerating Voltage = 4.5 kV)')\n",
        "plt.show()"
      ]
    },
    {
      "cell_type": "markdown",
      "metadata": {
        "id": "ry-WUDD5NxeX"
      },
      "source": [
        "## Analysis of Electron Path:   Accelerating Voltage = 4.5 kV\n",
        "\n",
        "First of all, we see that the fit is non-linear, as expected, and appears to be roughly quadratic.\n",
        "\n",
        "From the theory, we expect:\n",
        "\n",
        "$y = C(x-x_i)^\\alpha + y_i$\n",
        "\n",
        "where:\n",
        "\n",
        "$C = \\frac{V_p}{4 d_{eff} V_a}$\n",
        "\n",
        "We see that the coefficient C is $(2.57 \\pm 0.17)$.\n",
        "\n",
        "The theory predicts that this coefficient should be equal to: $\\frac{V_p}{4 d_{eff} V_a}$.  Thus, we can calculate that:\n",
        "\n",
        "$d_{eff} = \\frac{V_p}{4 C V_a}$\n",
        "\n",
        "and \n",
        "\n",
        "$ \\delta(d_{eff}) = d_{eff} \\left( \\frac{\\delta(V_p)}{V_p} + \\frac{\\delta(V_a)}{V_a} + \\frac{\\delta(C)}{C} \\right) $"
      ]
    },
    {
      "cell_type": "code",
      "execution_count": 6,
      "metadata": {
        "id": "pVVS3p5hNxeY",
        "outputId": "183c060f-ea5b-484d-8b24-7cb9bd8fd1df",
        "colab": {
          "base_uri": "https://localhost:8080/"
        }
      },
      "outputs": [
        {
          "output_type": "stream",
          "name": "stdout",
          "text": [
            "d$_{eff} = (0.098 +/- 0.058)\n",
            "xi = (0.02296 +/- 0.00789)\n",
            "yi = (0.00000 +/- 0.00005)\n",
            "alpha = (1.80562 +/- 0.29489)\n"
          ]
        }
      ],
      "source": [
        "Va = 4.50\n",
        "dVa = 0.01\n",
        "Vp = 3.64\n",
        "dVp = 0.01\n",
        "C = popt[0]\n",
        "dC = perr[0]\n",
        "x_i1 = popt[1]\n",
        "dx_i1 = perr[1]\n",
        "alpha1 = popt[2]\n",
        "dalpha1 = perr[2]\n",
        "y_i1 = popt[3]\n",
        "dy_i1 = perr[3]\n",
        "\n",
        "deff1 = Vp/(4*C*Va)\n",
        "\n",
        "ddeff1 = deff1*(dVp/Vp+dVa/Va+dC/C)\n",
        "\n",
        "print('d$_{eff} = (%0.3f +/- %0.3f)' % (deff1,ddeff1))\n",
        "\n",
        "print('xi = (%0.5f +/- %0.5f)' % (x_i1,dx_i1))\n",
        "print('yi = (%0.5f +/- %0.5f)' % (y_i1,dy_i1))\n",
        "print('alpha = (%0.5f +/- %0.5f)' % (alpha1,dalpha1))"
      ]
    },
    {
      "cell_type": "code",
      "execution_count": 10,
      "metadata": {
        "id": "i0gmSblpNxeb",
        "outputId": "5133815e-dcf5-4366-a444-f6b453662b28",
        "colab": {
          "base_uri": "https://localhost:8080/",
          "height": 670
        }
      },
      "outputs": [
        {
          "output_type": "stream",
          "name": "stderr",
          "text": [
            "/usr/local/lib/python3.7/dist-packages/ipykernel_launcher.py:17: RuntimeWarning: invalid value encountered in power\n"
          ]
        },
        {
          "output_type": "stream",
          "name": "stdout",
          "text": [
            "Beta: [nan nan nan nan]\n",
            "Beta Std Error: [0. 0. 0. 0.]\n",
            "Beta Covariance: [[0. 0. 0. 0.]\n",
            " [0. 0. 0. 0.]\n",
            " [0. 0. 0. 0.]\n",
            " [0. 0. 0. 0.]]\n",
            "Residual Variance: 0.0\n",
            "Inverse Condition #: nan\n",
            "Reason(s) for Halting:\n",
            "  Numerical error detected\n",
            "\n",
            "Final Result: Y = (nan +/- 0.0000)(X - (nan +/- 0.0000))^(nan +/- 0.0000) + (nan +/- 0.0000)\n"
          ]
        },
        {
          "output_type": "display_data",
          "data": {
            "image/png": "[encoded data removed]",
            "text/plain": [
              "<Figure size 640x480 with 1 Axes>"
            ]
          },
          "metadata": {
            "needs_background": "light"
          }
        }
      ],
      "source": [
        "xi = df2['x']\n",
        "yi = df2['y']\n",
        "sigmaxi = df2['dx']\n",
        "sigmayi = df2['dy']\n",
        "\n",
        "##############################\n",
        "\n",
        "from scipy.odr import *\n",
        "\n",
        "def fitfunction(B, x):\n",
        "    '''Non-Linear function y = a*(x-c)^b+d'''\n",
        "    # B is a vector of the parameters.\n",
        "    # x is an array of the current x values.\n",
        "    # x is in the same format as the x passed to Data or RealData.\n",
        "    #\n",
        "    # Return an array in the same format as y passed to Data or RealData\n",
        "    return B[0]*(x-B[1])**B[2] + B[3]\n",
        "\n",
        "linear = Model(fitfunction) # create a Model object based on the fitfuncion we have defined\n",
        "mydata = RealData(xi, yi, sx=sigmaxi, sy=sigmayi) # create a data object based on our data, include errors.\n",
        "myodr = ODR(mydata, linear, beta0=[3.00, 0.023, 1.60, -0.00000]) # create a fitting object, based on the data, fit Model, and an intial set of parameters.\n",
        "myoutput = myodr.run()  # run the fitting process to get optimized parameters!\n",
        "\n",
        "myoutput.pprint() # print out the result of the fit\n",
        "\n",
        "# Now assign the important fit results to some more convenient variables.\n",
        "\n",
        "popt = myoutput.beta # the vector of optimized parameters\n",
        "pcov = myoutput.cov_beta # the covariance matrix\n",
        "perr = myoutput.sd_beta # the vector of ERRORS in the optimized parameters\n",
        "\n",
        "# The following lines generate upper and lower 99% \"Confidence Bands\" on the fit, for visualization\n",
        "# purposes.\n",
        "\n",
        "ps = np.random.multivariate_normal(popt,pcov,10000)\n",
        "xl = np.linspace(xi[0],xi[len(xi)-1],100)\n",
        "ysample=np.asarray([fitfunction(pl,xl) for pl in ps])\n",
        "ysample = np.nan_to_num(ysample)\n",
        "\n",
        "lower = np.percentile(ysample,16.0,axis=0)\n",
        "upper = np.percentile(ysample,84.0,axis=0)\n",
        "middle = (lower+upper)/2.0\n",
        "\n",
        "yfit = fitfunction(popt,xl)\n",
        "\n",
        "print()\n",
        "print (\"Final Result: Y = (%0.4f +/- %0.4f)(X - (%0.4f +/- %0.4f))^(%0.4f +/- %0.4f) + (%0.4f +/- %0.4f)\" % (popt[0],perr[0],popt[1],perr[1],popt[2],perr[2],popt[3],perr[3]))\n",
        "\n",
        "plt.figure(figsize=(8, 6), dpi=80)\n",
        "plt.errorbar(xi, yi, xerr=sigmaxi, yerr=sigmayi, fmt='o', capsize=2, capthick=1)\n",
        "\n",
        "#plt.plot(xl,middle)\n",
        "#plt.plot(xl,lower)\n",
        "#plt.plot(xl,upper)\n",
        "plt.plot(xl,yfit)\n",
        "\n",
        "#########################\n",
        "\n",
        "plt.xlabel('Horizonatal Distance (meters)')\n",
        "plt.ylabel('Vertical Distance (meters)')\n",
        "plt.title('Determining the Electron Path (Accelerating Voltage = 3.5 kV)')\n",
        "plt.show()\n",
        "\n"
      ]
    },
    {
      "cell_type": "code",
      "execution_count": null,
      "metadata": {
        "id": "0x1kBg_DNxed",
        "outputId": "056467b3-a20b-40ac-9fd5-cf880df85e80"
      },
      "outputs": [
        {
          "name": "stdout",
          "output_type": "stream",
          "text": [
            "d$_{eff} = (0.135 +/- 0.040)\n",
            "xi = (0.01744 +/- 0.00533)\n",
            "yi = (-0.00006 +/- 0.00027)\n",
            "alpha = (1.71964 +/- 0.15307)\n"
          ]
        }
      ],
      "source": [
        "Va = 3.50\n",
        "dVa = 0.01\n",
        "Vp = 3.64\n",
        "dVp = 0.01\n",
        "C = popt[0]\n",
        "dC = perr[0]\n",
        "x_i2 = popt[1]\n",
        "dx_i2 = perr[1]\n",
        "alpha2 = popt[2]\n",
        "dalpha2 = perr[2]\n",
        "y_i2 = popt[3]\n",
        "dy_i2 = perr[3]\n",
        "\n",
        "deff2 = Vp/(4*C*Va)\n",
        "\n",
        "ddeff2 = deff2*(dVp/Vp+dVa/Va+dC/C)\n",
        "\n",
        "print('d$_{eff} = (%0.3f +/- %0.3f)' % (deff2,ddeff2))\n",
        "\n",
        "print('xi = (%0.5f +/- %0.5f)' % (x_i2,dx_i2))\n",
        "print('yi = (%0.5f +/- %0.5f)' % (y_i2,dy_i2))\n",
        "print('alpha = (%0.5f +/- %0.5f)' % (alpha2,dalpha2))\n",
        "\n"
      ]
    },
    {
      "cell_type": "code",
      "execution_count": null,
      "metadata": {
        "id": "ubETW-MrNxee",
        "outputId": "16907591-1607-467d-c411-80a387904501"
      },
      "outputs": [
        {
          "name": "stdout",
          "output_type": "stream",
          "text": [
            "Beta: [ 3.17996363e+00  1.72791180e-02  1.76177458e+00 -9.06523236e-05]\n",
            "Beta Std Error: [2.39649045e+00 1.12116860e-02 3.70756680e-01 7.29098313e-04]\n",
            "Beta Covariance: [[ 2.30580356e+00 -1.03104718e-02  3.55493231e-01 -5.49654873e-04]\n",
            " [-1.03104718e-02  5.04676119e-05 -1.62948003e-03  2.95349040e-06]\n",
            " [ 3.55493231e-01 -1.62948003e-03  5.51885357e-02 -8.87514014e-05]\n",
            " [-5.49654873e-04  2.95349040e-06 -8.87514014e-05  2.13423918e-07]]\n",
            "Residual Variance: 2.490744031553536\n",
            "Inverse Condition #: 0.0005403866497590544\n",
            "Reason(s) for Halting:\n",
            "  Sum of squares convergence\n"
          ]
        },
        {
          "name": "stderr",
          "output_type": "stream",
          "text": [
            "/usr/lib/python3.6/site-packages/ipykernel_launcher.py:17: RuntimeWarning: invalid value encountered in power\n"
          ]
        },
        {
          "name": "stdout",
          "output_type": "stream",
          "text": [
            "\n",
            "Final Result: Y = (3.1800 +/- 2.3965)(X - (0.0173 +/- 0.0112))^(1.7618 +/- 0.3708) + (-0.0001 +/- 0.0007)\n"
          ]
        },
        {
          "data": {
            "image/png": "[encoded data removed]",
            "text/plain": [
              "<Figure size 640x480 with 1 Axes>"
            ]
          },
          "metadata": {
            "needs_background": "dark"
          },
          "output_type": "display_data"
        }
      ],
      "source": [
        "xi = df3['x']\n",
        "yi = df3['y']\n",
        "sigmaxi = df3['dx']\n",
        "sigmayi = df3['dy']\n",
        "\n",
        "##############################\n",
        "\n",
        "from scipy.odr import *\n",
        "\n",
        "def fitfunction(B, x):\n",
        "    '''Non-Linear function y = a*(x-c)^b+d'''\n",
        "    # B is a vector of the parameters.\n",
        "    # x is an array of the current x values.\n",
        "    # x is in the same format as the x passed to Data or RealData.\n",
        "    #\n",
        "    # Return an array in the same format as y passed to Data or RealData\n",
        "    return B[0]*(x-B[1])**B[2] + B[3]\n",
        "\n",
        "linear = Model(fitfunction) # create a Model object based on the fitfuncion we have defined\n",
        "mydata = RealData(xi, yi, sx=sigmaxi, sy=sigmayi) # create a data object based on our data, include errors.\n",
        "myodr = ODR(mydata, linear, beta0=[2.55, 0.009, 2.0, -0.0003]) # create a fitting object, based on the data, fit Model, and an intial set of parameters.\n",
        "myoutput = myodr.run()  # run the fitting process to get optimized parameters!\n",
        "\n",
        "myoutput.pprint() # print out the result of the fit\n",
        "\n",
        "# Now assign the important fit results to some more convenient variables.\n",
        "\n",
        "popt = myoutput.beta # the vector of optimized parameters\n",
        "pcov = myoutput.cov_beta # the covariance matrix\n",
        "perr = myoutput.sd_beta # the vector of ERRORS in the optimized parameters\n",
        "\n",
        "# The following lines generate upper and lower 99% \"Confidence Bands\" on the fit, for visualization\n",
        "# purposes.\n",
        "\n",
        "ps = np.random.multivariate_normal(popt,pcov,10000)\n",
        "xl = np.linspace(xi[0],xi[len(xi)-1],100)\n",
        "ysample=np.asarray([fitfunction(pl,xl) for pl in ps])\n",
        "ysample = np.nan_to_num(ysample)\n",
        "\n",
        "lower = np.percentile(ysample,16.0,axis=0)\n",
        "upper = np.percentile(ysample,84.0,axis=0)\n",
        "middle = (lower+upper)/2.0\n",
        "\n",
        "yfit = fitfunction(popt,xl)\n",
        "\n",
        "print()\n",
        "print (\"Final Result: Y = (%0.4f +/- %0.4f)(X - (%0.4f +/- %0.4f))^(%0.4f +/- %0.4f) + (%0.4f +/- %0.4f)\" % (popt[0],perr[0],popt[1],perr[1],popt[2],perr[2],popt[3],perr[3]))\n",
        "\n",
        "plt.figure(figsize=(8, 6), dpi=80)\n",
        "plt.errorbar(xi, yi, xerr=sigmaxi, yerr=sigmayi, fmt='o', capsize=2, capthick=1)\n",
        "\n",
        "#plt.plot(xl,middle)\n",
        "#plt.plot(xl,lower)\n",
        "#plt.plot(xl,upper)\n",
        "plt.plot(xl,yfit)\n",
        "\n",
        "#########################\n",
        "\n",
        "plt.xlabel('Horizonatal Distance (meters)')\n",
        "plt.ylabel('Vertical Distance (meters)')\n",
        "plt.title('Determining the Electron Path (Accelerating Voltage = 2.5 kV)')\n",
        "plt.show()\n"
      ]
    },
    {
      "cell_type": "code",
      "execution_count": null,
      "metadata": {
        "id": "_mxmEg9sNxef",
        "outputId": "0cb87070-e685-4e75-f956-741385ea2de7"
      },
      "outputs": [
        {
          "name": "stdout",
          "output_type": "stream",
          "text": [
            "d$_{eff} = (0.114 +/- 0.087)\n",
            "xi = (0.01728 +/- 0.01121)\n",
            "yi = (-0.00009 +/- 0.00073)\n",
            "alpha = (1.76177 +/- 0.37076)\n"
          ]
        }
      ],
      "source": [
        "Va = 2.50\n",
        "dVa = 0.01\n",
        "Vp = 3.64\n",
        "dVp = 0.01\n",
        "C = popt[0]\n",
        "dC = perr[0]\n",
        "x_i3 = popt[1]\n",
        "dx_i3 = perr[1]\n",
        "alpha3 = popt[2]\n",
        "dalpha3 = perr[2]\n",
        "y_i3 = popt[3]\n",
        "dy_i3 = perr[3]\n",
        "\n",
        "deff3 = Vp/(4*C*Va)\n",
        "\n",
        "ddeff3 = deff3*(dVp/Vp+dVa/Va+dC/C)\n",
        "\n",
        "print('d$_{eff} = (%0.3f +/- %0.3f)' % (deff3,ddeff3))\n",
        "\n",
        "print('xi = (%0.5f +/- %0.5f)' % (x_i3,dx_i3))\n",
        "print('yi = (%0.5f +/- %0.5f)' % (y_i3,dy_i3))\n",
        "print('alpha = (%0.5f +/- %0.5f)' % (alpha3,dalpha3))\n"
      ]
    },
    {
      "cell_type": "code",
      "execution_count": null,
      "metadata": {
        "id": "6K37qkraNxeg",
        "outputId": "47018f5e-9632-4f9e-f528-ab5630b11f1b"
      },
      "outputs": [
        {
          "name": "stdout",
          "output_type": "stream",
          "text": [
            "Va = 4.50kV: d$_{eff} = (0.079 +/- 0.006)\n",
            "Va = 3.50kV: d$_{eff} = (0.135 +/- 0.040)\n",
            "Va = 2.50kV: d$_{eff} = (0.114 +/- 0.087)\n"
          ]
        }
      ],
      "source": [
        "# Summary of Part I\n",
        "\n",
        "print('Va = 4.50kV: d$_{eff} = (%0.3f +/- %0.3f)' % (deff1,ddeff1))\n",
        "print('Va = 3.50kV: d$_{eff} = (%0.3f +/- %0.3f)' % (deff2,ddeff2))\n",
        "print('Va = 2.50kV: d$_{eff} = (%0.3f +/- %0.3f)' % (deff3,ddeff3))"
      ]
    },
    {
      "cell_type": "markdown",
      "metadata": {
        "id": "Sfl9bEReNxeh"
      },
      "source": [
        "# Determining the Effective Plate Separation"
      ]
    },
    {
      "cell_type": "code",
      "execution_count": null,
      "metadata": {
        "id": "Z2JfSKgoNxei",
        "outputId": "037802af-c5ab-4e8f-f8d0-48369c9ec642"
      },
      "outputs": [
        {
          "name": "stdout",
          "output_type": "stream",
          "text": [
            "Plate Separation Data:\n",
            "   Vp   dVp    Va   dVa\n",
            " 2.03  0.01  2.63  0.01\n",
            " 2.11  0.01  2.80  0.01\n",
            " 2.24  0.01  3.01  0.01\n",
            " 2.40  0.01  3.21  0.01\n",
            " 2.54  0.01  3.40  0.01\n",
            " 2.70  0.01  3.61  0.01\n",
            " 2.84  0.01  3.80  0.01\n",
            " 2.98  0.01  4.01  0.01\n",
            " 3.13  0.01  4.20  0.01\n",
            " 3.28  0.01  4.41  0.01\n",
            " 3.43  0.01  4.60  0.01\n",
            " 3.57  0.01  4.80  0.01\n",
            " 3.72  0.01  5.00  0.01\n"
          ]
        }
      ],
      "source": [
        "# Create a Pandas DataFrame with data for part 2\n",
        "\n",
        "# The data elements are [Vp, dVp, Va, dVa]\n",
        "\n",
        "data4 = [[2.03,0.01,2.63,0.01], [2.11,0.01,2.80,0.01], [2.24,0.01,3.01,0.01],\n",
        "         [2.40,0.01,3.21,0.01], [2.54,0.01,3.40,0.01], [2.70,0.01,3.61,0.01],\n",
        "         [2.84,0.01,3.80,0.01], [2.98,0.01,4.01,0.01], [3.13,0.01,4.20,0.01],\n",
        "         [3.28,0.01,4.41,0.01], [3.43,0.01,4.60,0.01], [3.57,0.01,4.80,0.01],\n",
        "         [3.72,0.01,5.00,0.01]]\n",
        "# create dataframe\n",
        "df4 = pd.DataFrame(data4, columns = ['Vp', 'dVp','Va','dVa'])\n",
        "\n",
        "print('Plate Separation Data:')\n",
        "print(df4.to_string(index=False))"
      ]
    },
    {
      "cell_type": "code",
      "execution_count": null,
      "metadata": {
        "id": "BPhEqs3aNxej",
        "outputId": "a1a939db-8104-4cc1-c44d-965d15090e21"
      },
      "outputs": [
        {
          "name": "stdout",
          "output_type": "stream",
          "text": [
            "Beta: [0.7272079 0.075981 ]\n",
            "Beta Std Error: [0.0059828  0.02320222]\n",
            "Beta Covariance: [[ 2.12565960e-05 -8.09058754e-05]\n",
            " [-8.09058754e-05  3.19700453e-04]]\n",
            "Residual Variance: 1.6838981153405177\n",
            "Inverse Condition #: 0.04096113891762388\n",
            "Reason(s) for Halting:\n",
            "  Sum of squares convergence\n",
            "\n",
            "Final Result: Y = (0.727207902 +/- 0.005982804)X + (0.075981002 +/- 0.023202220)\n"
          ]
        },
        {
          "data": {
            "image/png": "[encoded data removed]",
            "text/plain": [
              "<Figure size 640x480 with 1 Axes>"
            ]
          },
          "metadata": {
            "needs_background": "dark"
          },
          "output_type": "display_data"
        }
      ],
      "source": [
        "xi = df4['Va']\n",
        "yi = df4['Vp']\n",
        "sigmaxi = df4['dVa']\n",
        "sigmayi = df4['dVp']\n",
        "\n",
        "##############################\n",
        "\n",
        "from scipy.odr import *\n",
        "\n",
        "def fitfunction(B, x):\n",
        "    '''Linear function y = a*x+b'''\n",
        "    # B is a vector of the parameters.\n",
        "    # x is an array of the current x values.\n",
        "    # x is in the same format as the x passed to Data or RealData.\n",
        "    #\n",
        "    # Return an array in the same format as y passed to Data or RealData.\n",
        "    return B[0]*x+B[1]\n",
        "\n",
        "linear = Model(fitfunction) # create a Model object based on the fitfuncion we have defined\n",
        "mydata = RealData(xi, yi, sx=sigmaxi, sy=sigmayi) # create a data object based on our data, include errors.\n",
        "myodr = ODR(mydata, linear, beta0=[1., 2.]) # create a fitting object, based on the data, fit Model, and an intial set of parameters.\n",
        "myoutput = myodr.run()  # run the fitting process to get optimized parameters!\n",
        "\n",
        "myoutput.pprint() # print out the result of the fit\n",
        "\n",
        "# Now assign the important fit results to some more convenient variables.\n",
        "\n",
        "popt = myoutput.beta # the vector of optimized parameters\n",
        "pcov = myoutput.cov_beta # the covariance matrix\n",
        "perr = myoutput.sd_beta # the vector of ERRORS in the optimized parameters\n",
        "\n",
        "# The following lines generate upper and lower 99% \"Confidence Bands\" on the fit, for visualization\n",
        "# purposes.\n",
        "\n",
        "ps = np.random.multivariate_normal(popt,pcov,10000)\n",
        "xl = np.linspace(xi[0],xi[len(xi)-1],100)\n",
        "ysample=np.asarray([fitfunction(pl,xl) for pl in ps])\n",
        "\n",
        "lower = np.percentile(ysample,0.5,axis=0)\n",
        "upper = np.percentile(ysample,99.5,axis=0)\n",
        "middle = (lower+upper)/2.0\n",
        "\n",
        "print()\n",
        "print (\"Final Result: Y = (%0.9f +/- %0.9f)X + (%0.9f +/- %0.9f)\" % (popt[0],perr[0],popt[1],perr[1]))\n",
        "\n",
        "plt.figure(figsize=(8, 6), dpi=80)\n",
        "\n",
        "plt.errorbar(xi, yi, xerr=sigmaxi, yerr=sigmayi, fmt='o', capsize=2, capthick=1)\n",
        "\n",
        "plt.plot(xl,middle)\n",
        "plt.plot(xl,lower)\n",
        "plt.plot(xl,upper)\n",
        "\n",
        "#########################\n",
        "\n",
        "plt.xlabel('Accelerating Voltage (kV)')\n",
        "plt.ylabel('Plate Voltage (kV)')\n",
        "plt.title('Determining the Effective Plate Separation')\n",
        "plt.show()"
      ]
    },
    {
      "cell_type": "markdown",
      "metadata": {
        "id": "T8haIGkDNxek"
      },
      "source": [
        "## Analysis of Electron Path:   Accelerating Voltage = 4.5 kV\n",
        "\n",
        "First of all, we see that the fit is linear, as expected.\n",
        "\n",
        "Second, we see that the result for the slope is $(0.727 \\pm 0.006)$.  \n",
        "\n",
        "Third, we see that the y-intercept of the fit is $(0.076 \\pm 0.023)$.  This is not\n",
        "consistent with zero, as expected.\n",
        "\n",
        "The theory predicts that this slope should be equal to: $\\frac{4 \\Delta y d_{eff}}{(\\Delta x)^2}$.  Thus, we can calculate that:\n",
        "\n",
        "$d_{eff} = slope \\left( \\frac{(\\Delta x)^2}{4 \\Delta y} \\right)$\n",
        "\n",
        "and \n",
        "\n",
        "$ \\delta(d_{eff}) = d_{eff} \\left( 2 \\frac{\\delta(\\Delta x)}{\\Delta x} + \\frac{\\delta(\\Delta y)}{\\Delta y} + \\frac{\\delta(slope)}{slope} \\right) $"
      ]
    },
    {
      "cell_type": "code",
      "execution_count": null,
      "metadata": {
        "id": "SjqF4ZICNxel"
      },
      "outputs": [],
      "source": [
        "slope = popt[0]\n",
        "dslope = perr[0]\n",
        "\n",
        "deltax = 0.100\n",
        "ddeltax = 0.001\n",
        "deltay = 0.020\n",
        "ddeltay = 0.001\n",
        "\n",
        "deff4 = slope*(deltax**2)/(4.0*deltay)\n",
        "ddeff4 = deff4*(2*ddeltax/deltax + ddeltay/deltay + dslope/slope)\n",
        "\n"
      ]
    },
    {
      "cell_type": "code",
      "execution_count": null,
      "metadata": {
        "id": "GKtUNo4FNxem",
        "outputId": "0d9d4782-8bd2-43a4-acb2-0094e5f04dbc"
      },
      "outputs": [
        {
          "name": "stdout",
          "output_type": "stream",
          "text": [
            "Part II: Effective distance = (0.091 +/- 0.007) m\n",
            "\n",
            "Part I:\n",
            "Va = 4.50kV: d_eff = (0.079 +/- 0.006) m\n",
            "Va = 3.50kV: d_eff = (0.135 +/- 0.040) m\n",
            "Va = 2.50kV: d_eff = (0.114 +/- 0.087) m\n"
          ]
        }
      ],
      "source": [
        "# Final Summary\n",
        "print (\"Part II: Effective distance = (%0.3f +/- %0.3f) m\" % (deff4,ddeff4))\n",
        "\n",
        "print()\n",
        "print(\"Part I:\")\n",
        "print('Va = 4.50kV: d_eff = (%0.3f +/- %0.3f) m' % (deff1,ddeff1))\n",
        "print('Va = 3.50kV: d_eff = (%0.3f +/- %0.3f) m' % (deff2,ddeff2))\n",
        "print('Va = 2.50kV: d_eff = (%0.3f +/- %0.3f) m' % (deff3,ddeff3))"
      ]
    },
    {
      "cell_type": "code",
      "execution_count": null,
      "metadata": {
        "id": "9-JemZHXNxem",
        "outputId": "571a18d3-2b51-4556-8fe1-03b60f8486ea"
      },
      "outputs": [
        {
          "name": "stdout",
          "output_type": "stream",
          "text": [
            "Weighted Average = 0.0840 +/- 0.0044 m\n"
          ]
        },
        {
          "data": {
            "image/png": "[encoded data removed]",
            "text/plain": [
              "<Figure size 640x480 with 1 Axes>"
            ]
          },
          "metadata": {
            "needs_background": "dark"
          },
          "output_type": "display_data"
        }
      ],
      "source": [
        "x1 = ['IA','IB','IC','II']\n",
        "y1 = np.array([deff1,deff2,deff3,deff4])\n",
        "dy1 = np.array([ddeff1,ddeff2,ddeff3,ddeff4])\n",
        "\n",
        "# Calculate the weighted average of the effective distance values.\n",
        "def w_avg(x, dx):\n",
        "    d = x\n",
        "    w = 1.0/dx**2\n",
        "    return (d * w).sum()/w.sum(), np.sqrt(1/w.sum())\n",
        "\n",
        "average, daverage = w_avg(y1,dy1)\n",
        "print ('Weighted Average = %0.4f +/- %0.4f m' % (average,daverage))\n",
        "ylow = average-daverage\n",
        "yhigh = average+daverage\n",
        "y2 = [ylow,ylow,ylow,ylow]\n",
        "y3 = [yhigh,yhigh,yhigh,yhigh]\n",
        "\n",
        "\n",
        "plt.figure(figsize=(8, 6), dpi=80)\n",
        "\n",
        "plt.errorbar(x1, y1, yerr=dy1, fmt='o', capsize=2, capthick=1)\n",
        "plt.plot(x1,y2)\n",
        "plt.plot(x1,y3)\n",
        "\n",
        "#########################\n",
        "\n",
        "plt.xlabel('Experiment Part')\n",
        "plt.ylabel('Effective Plate Separation (m)')\n",
        "plt.title('Comparison of Parts I and II')\n",
        "plt.ylim(0,0.22)\n",
        "plt.show()"
      ]
    },
    {
      "cell_type": "code",
      "execution_count": null,
      "metadata": {
        "id": "apPoCResNxen",
        "outputId": "6359cab8-8ab8-49e4-eda8-c6f8fedcc4b2"
      },
      "outputs": [
        {
          "data": {
            "image/png": "[encoded data removed]",
            "text/plain": [
              "<Figure size 640x480 with 1 Axes>"
            ]
          },
          "metadata": {
            "needs_background": "dark"
          },
          "output_type": "display_data"
        }
      ],
      "source": [
        "x1 = ['IA','IB','IC']\n",
        "y1 = [x_i1,x_i2,x_i3]\n",
        "dy1 = [dx_i1,dx_i2,dx_i3]\n",
        "y2 = [y_i1,y_i2,y_i3]\n",
        "dy2 = [dy_i1,dy_i2,dy_i3]\n",
        "\n",
        "plt.figure(figsize=(8, 6), dpi=80)\n",
        "\n",
        "plt.errorbar(x1, y1, yerr=dy1, fmt='o', capsize=2, capthick=1)\n",
        "plt.errorbar(x1, y2, yerr=dy2, fmt='o', capsize=2, capthick=1)\n",
        "#########################\n",
        "\n",
        "plt.xlabel('Experiment Part')\n",
        "plt.ylabel('Initial X/Y Position (m)')\n",
        "plt.title('Comparison of Part I Extractions')\n",
        "plt.ylim(-0.01,0.03)\n",
        "plt.show()"
      ]
    },
    {
      "cell_type": "code",
      "execution_count": null,
      "metadata": {
        "id": "68_39QzKNxeo",
        "outputId": "f136f772-ebeb-4bdf-e54a-7f6c5cbda210"
      },
      "outputs": [
        {
          "name": "stdout",
          "output_type": "stream",
          "text": [
            "Weighted Average = 1.9819 +/- 0.0407 m\n"
          ]
        },
        {
          "data": {
            "image/png": "[encoded data removed]",
            "text/plain": [
              "<Figure size 640x480 with 1 Axes>"
            ]
          },
          "metadata": {
            "needs_background": "dark"
          },
          "output_type": "display_data"
        }
      ],
      "source": [
        "x1 = ['IA','IB','IC']\n",
        "y1 = np.array([alpha1,alpha2,alpha3])\n",
        "dy1 = np.array([dalpha1,dalpha2,dalpha3])\n",
        "\n",
        "average, daverage = w_avg(y1,dy1)\n",
        "print ('Weighted Average = %0.4f +/- %0.4f m' % (average,daverage))\n",
        "ylow = average-daverage\n",
        "yhigh = average+daverage\n",
        "y2 = [ylow,ylow,ylow]\n",
        "y3 = [yhigh,yhigh,yhigh]\n",
        "\n",
        "plt.figure(figsize=(8, 6), dpi=80)\n",
        "\n",
        "plt.errorbar(x1, y1, yerr=dy1, fmt='o', capsize=2, capthick=1)\n",
        "plt.plot(x1,y2)\n",
        "plt.plot(x1,y3)\n",
        "#########################\n",
        "\n",
        "plt.xlabel('Experiment Part')\n",
        "plt.ylabel('Exponent')\n",
        "plt.title('Comparison of Part I Extractions')\n",
        "plt.ylim(0.0,3.0)\n",
        "plt.show()"
      ]
    },
    {
      "cell_type": "code",
      "execution_count": null,
      "metadata": {
        "id": "PBxaOsndNxep"
      },
      "outputs": [],
      "source": [
        ""
      ]
    }
  ],
  "metadata": {
    "kernelspec": {
      "display_name": "Python 3",
      "language": "python",
      "name": "python3"
    },
    "language_info": {
      "codemirror_mode": {
        "name": "ipython",
        "version": 3
      },
      "file_extension": ".py",
      "mimetype": "text/x-python",
      "name": "python",
      "nbconvert_exporter": "python",
      "pygments_lexer": "ipython3",
      "version": "3.6.8"
    },
    "latex_envs": {
      "LaTeX_envs_menu_present": true,
      "autoclose": false,
      "autocomplete": true,
      "bibliofile": "biblio.bib",
      "cite_by": "apalike",
      "current_citInitial": 1,
      "eqLabelWithNumbers": true,
      "eqNumInitial": 1,
      "hotkeys": {
        "equation": "Ctrl-E",
        "itemize": "Ctrl-I"
      },
      "labels_anchors": false,
      "latex_user_defs": false,
      "report_style_numbering": false,
      "user_envs_cfg": false
    },
    "colab": {
      "name": "Use this Electric_Force_Analysis_PowerLaw.ipynb",
      "provenance": [],
      "collapsed_sections": [],
      "include_colab_link": true
    }
  },
  "nbformat": 4,
  "nbformat_minor": 0
}